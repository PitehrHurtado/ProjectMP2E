{
 "cells": [
  {
   "cell_type": "markdown",
   "id": "91e39e6b",
   "metadata": {
    "id": "91e39e6b"
   },
   "source": [
    "# Librerias"
   ]
  },
  {
   "cell_type": "code",
   "execution_count": 117,
   "id": "c96fdfb9",
   "metadata": {
    "executionInfo": {
     "elapsed": 6,
     "status": "ok",
     "timestamp": 1658786329427,
     "user": {
      "displayName": "Pitehr Hurtado",
      "userId": "17470625172762137230"
     },
     "user_tz": 240
    },
    "id": "c96fdfb9"
   },
   "outputs": [],
   "source": [
    "import pandas as pd\n",
    "import numpy as np\n",
    "\n",
    "import gurobipy as gp\n",
    "from gurobipy import GRB\n",
    "from gurobipy import quicksum\n",
    "\n",
    "import math"
   ]
  },
  {
   "cell_type": "markdown",
   "id": "32c94f81",
   "metadata": {},
   "source": [
    "#### Conexion Google Drive"
   ]
  },
  {
   "cell_type": "code",
   "execution_count": 118,
   "id": "9sZKPFXLkD5z",
   "metadata": {
    "colab": {
     "base_uri": "https://localhost:8080/"
    },
    "executionInfo": {
     "elapsed": 1730,
     "status": "ok",
     "timestamp": 1658786331152,
     "user": {
      "displayName": "Pitehr Hurtado",
      "userId": "17470625172762137230"
     },
     "user_tz": 240
    },
    "id": "9sZKPFXLkD5z",
    "outputId": "84078239-1cc7-4da6-c339-cdfb966708ec"
   },
   "outputs": [],
   "source": [
    "#from google.colab import drive\n",
    "#drive.mount(\"/content/gdrive\")"
   ]
  },
  {
   "cell_type": "code",
   "execution_count": 119,
   "id": "6FPbAAL7kKmI",
   "metadata": {
    "colab": {
     "base_uri": "https://localhost:8080/"
    },
    "executionInfo": {
     "elapsed": 436,
     "status": "ok",
     "timestamp": 1658786331583,
     "user": {
      "displayName": "Pitehr Hurtado",
      "userId": "17470625172762137230"
     },
     "user_tz": 240
    },
    "id": "6FPbAAL7kKmI",
    "outputId": "cfb67b95-eace-4adc-ef3b-cfa5ef06e98b"
   },
   "outputs": [],
   "source": [
    "#from google.colab import auth\n",
    "#auth.authenticate_user()\n",
    "\n",
    "#import gspread\n",
    "#from google.auth import default\n",
    "#creds, _ = default()"
   ]
  },
  {
   "cell_type": "markdown",
   "id": "4ba68973",
   "metadata": {
    "id": "4ba68973"
   },
   "source": [
    "# Clases"
   ]
  },
  {
   "cell_type": "markdown",
   "id": "VuBjAdlkwDC7",
   "metadata": {
    "id": "VuBjAdlkwDC7"
   },
   "source": [
    "## Clase Zona Censal"
   ]
  },
  {
   "cell_type": "code",
   "execution_count": 120,
   "id": "f5fc1785",
   "metadata": {
    "executionInfo": {
     "elapsed": 4,
     "status": "ok",
     "timestamp": 1658786331583,
     "user": {
      "displayName": "Pitehr Hurtado",
      "userId": "17470625172762137230"
     },
     "user_tz": 240
    },
    "id": "f5fc1785"
   },
   "outputs": [],
   "source": [
    "class Zona_Censal:\n",
    "    \"\"\"\n",
    "    <descripcion>    \n",
    "\n",
    "    Parameters\n",
    "    ----------\n",
    "    x     : float\n",
    "                coordenada x del centroide de zona censal (ZC)\n",
    "    y     : float\n",
    "                coordenada y del centroide de zona censal (ZC)\n",
    "    n[]** : float\n",
    "                cantidad de clientes en el segmento en el periodo t\n",
    "    g[]   : float\n",
    "                densidad de demanda promedio en el periodo t en [clientes/km^2]\n",
    "    D[]** : float\n",
    "                demanda total de la ZC en el periodo t en [items]\n",
    "    k     : float\n",
    "                factor de proporcionalidad métrica de distancia\n",
    "    c     : float\n",
    "                velocidad local promedio (average local circuity) en [km/hr]\n",
    "    A     : float\n",
    "                área de la zona censal en [km^2]\n",
    "    ID    : int\n",
    "                identificador de la zona censal (único)\n",
    "    ds[]  : float\n",
    "                average drop size in period t [items/cliente]\n",
    "    T     : int\n",
    "                periodos\n",
    "\n",
    "    Other Attributes\n",
    "    ----------\n",
    "    loc : tuple\n",
    "                ubicación combinada (x,y) del centroide de ZC   \n",
    "    \"\"\"\n",
    "        \n",
    "    def __init__(self,\n",
    "                iD,\n",
    "                x,\n",
    "                y,\n",
    "                n,\n",
    "                demanda,\n",
    "                c,\n",
    "                area,\n",
    "                T\n",
    "                ):\n",
    "        \n",
    "        self.ID = int(iD)\n",
    "        self.x = float(x)\n",
    "        self.y = float(y)\n",
    "        self.loc = (self.x,self.y)\n",
    "        self.activo = [ False if demanda[t] == 0 else True for t in range(T)]\n",
    "        self.n = np.array(n)\n",
    "        self.D = np.array(demanda)\n",
    "        self.g = np.array(n) / area \n",
    "        self.c = c\n",
    "        self.k = 0.57 # Daganzo (1994) L2 norm VRP\n",
    "        self.A = area\n",
    "        self.ds = [2]*T\n",
    "        self.T = T\n"
   ]
  },
  {
   "cell_type": "markdown",
   "id": "6243156c",
   "metadata": {
    "id": "6243156c"
   },
   "source": [
    "## Clase Micro Hub\n"
   ]
  },
  {
   "cell_type": "code",
   "execution_count": 121,
   "id": "70fed09d",
   "metadata": {
    "executionInfo": {
     "elapsed": 4,
     "status": "ok",
     "timestamp": 1658786331583,
     "user": {
      "displayName": "Pitehr Hurtado",
      "userId": "17470625172762137230"
     },
     "user_tz": 240
    },
    "id": "70fed09d"
   },
   "outputs": [],
   "source": [
    "class Micro_Hub:\n",
    "    \"\"\"\n",
    "    <descripción>\n",
    "\n",
    "    Parameters\n",
    "    ----------\n",
    "    x         : float\n",
    "                coordenada X de la ubicación del MH\n",
    "    y         : float\n",
    "                coordenada Y de la ubicación del MH\n",
    "    C_F[]     : float\n",
    "                costo fijo de instalar el MH en el periodo t, en [$]\n",
    "    C_O[t][a] : float\n",
    "                costo de operar con capacidad \"a\" en el periodo t, en [$]\n",
    "    Q{}       : float\n",
    "                capacidad \"a\" disponible para MH en [items]\n",
    "    Q_ID[a]   :str\n",
    "                lista de capacidades disponibles para MH\n",
    "    ID        : int\n",
    "                a (preferrably unique) identifier of the micro-hub\n",
    "                \n",
    "    Other Attributes\n",
    "    ----------------\n",
    "    loc : tuple\n",
    "                ubicación combinada (x,y) del centroide del MH\n",
    "\n",
    "    \"\"\"\n",
    "    def __init__(self,\n",
    "                iD,\n",
    "                x,\n",
    "                y,\n",
    "                cf,\n",
    "                co,\n",
    "                q,\n",
    "                q_id,\n",
    "                T):\n",
    "        self.ID = int(iD)\n",
    "        self.x = float(x)\n",
    "        self.y = float(y)\n",
    "        self.loc = (self.x,self.y)\n",
    "        self.ID = int(iD)\n",
    "        self.C_F = np.array(cf)\n",
    "        self.C_O = np.array(co)\n",
    "        self.Q = q\n",
    "        self.Q_ID = np.array(q_id)\n",
    "        self.T = T"
   ]
  },
  {
   "cell_type": "markdown",
   "id": "b55de500",
   "metadata": {
    "id": "b55de500"
   },
   "source": [
    "## Clase Vehiculo"
   ]
  },
  {
   "cell_type": "code",
   "execution_count": 122,
   "id": "1f7ce172",
   "metadata": {
    "executionInfo": {
     "elapsed": 5,
     "status": "ok",
     "timestamp": 1658786331584,
     "user": {
      "displayName": "Pitehr Hurtado",
      "userId": "17470625172762137230"
     },
     "user_tz": 240
    },
    "id": "1f7ce172"
   },
   "outputs": [],
   "source": [
    "class Vehiculo: \n",
    "    \"\"\"\n",
    "    <descripción>\n",
    "\n",
    "    Parameters\n",
    "    ----------\n",
    "    Q_V : float\n",
    "              load capacity of vehicle in [items]\n",
    "    cd  : float ***\n",
    "              costo operacional por distancia del vehiculo en [$/km]\n",
    "    ch  : float ***\n",
    "              costo operacional por tiempo del vehiculo en [$/hr]\n",
    "    tp  : float\n",
    "              preparation time required to dispatch vehicle in [hr]\n",
    "    cs  : float ***\n",
    "              wage cost per hour for using vehicle in [$/hr]\n",
    "    tl  : float\n",
    "              fixed loading time required in [hr]\n",
    "    k   : float\n",
    "              circuit factor for vehicle\n",
    "    sl  : float\n",
    "              linehaul speed en [km/hr]\n",
    "    ts  : float\n",
    "              route setup time (Fixed set-up time) en [hr]\n",
    "    s   : float\n",
    "              intra-stop speed of vehicles of type en [km/hr]\n",
    "\n",
    "\n",
    "    Tm  : float\n",
    "              maximum allowed service time (per vehicle) in [hr]\n",
    "    td  : float\n",
    "              service time per stop in [hr]\n",
    "    F   : float\n",
    "              costo fijo de usar el vehiculo\n",
    "    ID  : int\n",
    "              a (preferrably unique) identifier of the vehicle type\n",
    "    \"\"\"\n",
    "    \n",
    "    def __init__(self,\n",
    "                 Q_V,\n",
    "                 cd,\n",
    "                 ch,\n",
    "                 tp,\n",
    "                 cs,\n",
    "                 tl,\n",
    "                 sl,\n",
    "                 ts,\n",
    "                 s,\n",
    "                 Tm,\n",
    "                 td,\n",
    "                 F,\n",
    "                 ID):\n",
    "        self.Q_V = float(Q_V) \n",
    "        self.cd = float(cd) \n",
    "        self.ch = float(ch)\n",
    "        self.tp = float(tp)\n",
    "        self.cs = float(cs) \n",
    "        self.tl = float(tl) \n",
    "        self.k = float(1) \n",
    "        self.sl = float(sl) \n",
    "        self.ts = float(ts)\n",
    "        self.s = float(s)\n",
    "        self.Tm = float(Tm)\n",
    "        self.td = float(td)\n",
    "        self.F = float(F)\n",
    "        self.ID = ID"
   ]
  },
  {
   "cell_type": "markdown",
   "id": "f97c9885",
   "metadata": {
    "id": "f97c9885"
   },
   "source": [
    "# Cargar Data\n",
    "\n",
    "Previamente GENERADA: ZC, MH, distancias"
   ]
  },
  {
   "cell_type": "markdown",
   "id": "FFLjmeEiBVMe",
   "metadata": {
    "id": "FFLjmeEiBVMe"
   },
   "source": [
    "## Segmentos"
   ]
  },
  {
   "cell_type": "code",
   "execution_count": 123,
   "id": "7dXF6saGwUVD",
   "metadata": {
    "colab": {
     "base_uri": "https://localhost:8080/",
     "height": 490
    },
    "executionInfo": {
     "elapsed": 4,
     "status": "ok",
     "timestamp": 1658786331584,
     "user": {
      "displayName": "Pitehr Hurtado",
      "userId": "17470625172762137230"
     },
     "user_tz": 240
    },
    "id": "7dXF6saGwUVD",
    "outputId": "cbd60ed4-6d39-4e6b-bebb-3943b054c9a5",
    "scrolled": true
   },
   "outputs": [
    {
     "name": "stdout",
     "output_type": "stream",
     "text": [
      "<class 'pandas.core.frame.DataFrame'>\n",
      "RangeIndex: 1647 entries, 0 to 1646\n",
      "Data columns (total 29 columns):\n",
      " #   Column          Non-Null Count  Dtype  \n",
      "---  ------          --------------  -----  \n",
      " 0   Unnamed: 0      1647 non-null   int64  \n",
      " 1   GEOCODIGO       1647 non-null   int64  \n",
      " 2   REGION          1647 non-null   int64  \n",
      " 3   NOM_REGION      1647 non-null   object \n",
      " 4   PROVINCIA       1647 non-null   int64  \n",
      " 5   NOM_PROVIN      1647 non-null   object \n",
      " 6   COMUNA          1647 non-null   int64  \n",
      " 7   NOM_COMUNA      1647 non-null   object \n",
      " 8   URBANO          1647 non-null   object \n",
      " 9   DISTRITO        1647 non-null   int64  \n",
      " 10  LOC_ZON         1647 non-null   int64  \n",
      " 11  SHAPE_Leng      1647 non-null   float64\n",
      " 12  SHAPE_Area      1647 non-null   float64\n",
      " 13  area_m2         1647 non-null   float64\n",
      " 14  area_km2        1647 non-null   float64\n",
      " 15  lon             1647 non-null   float64\n",
      " 16  lat             1647 non-null   float64\n",
      " 17  Cantidad_Shops  1647 non-null   int64  \n",
      " 18  Vel_promedio    1647 non-null   float64\n",
      " 19  demanda1        1647 non-null   int64  \n",
      " 20  customer1       1647 non-null   int64  \n",
      " 21  demanda2        1647 non-null   int64  \n",
      " 22  customer2       1647 non-null   int64  \n",
      " 23  demanda3        1647 non-null   int64  \n",
      " 24  customer3       1647 non-null   int64  \n",
      " 25  demanda4        1647 non-null   int64  \n",
      " 26  customer4       1647 non-null   int64  \n",
      " 27  demanda5        1647 non-null   int64  \n",
      " 28  customer5       1647 non-null   int64  \n",
      "dtypes: float64(7), int64(18), object(4)\n",
      "memory usage: 373.3+ KB\n"
     ]
    },
    {
     "data": {
      "text/plain": [
       "None"
      ]
     },
     "metadata": {},
     "output_type": "display_data"
    }
   ],
   "source": [
    "# cargar ZC\n",
    "#path_zc = '/content/gdrive/MyDrive/Multi-Period 2E-LRP/Instancias_Parametros/Base ZC.csv'\n",
    "path_zc = r\"C:\\\\Users\\user\\Desktop\\Investigacion JC - PH\\Data In\\Base ZC.csv\"\n",
    "df_zc = pd.read_csv(path_zc)\n",
    "display(df_zc.info())"
   ]
  },
  {
   "cell_type": "markdown",
   "id": "rRIBPbLAk1Hy",
   "metadata": {
    "id": "rRIBPbLAk1Hy"
   },
   "source": [
    "### Generar Lista ZC"
   ]
  },
  {
   "cell_type": "code",
   "execution_count": 124,
   "id": "pib_5A4KBk9B",
   "metadata": {
    "executionInfo": {
     "elapsed": 3,
     "status": "ok",
     "timestamp": 1658786331584,
     "user": {
      "displayName": "Pitehr Hurtado",
      "userId": "17470625172762137230"
     },
     "user_tz": 240
    },
    "id": "pib_5A4KBk9B"
   },
   "outputs": [
    {
     "name": "stdout",
     "output_type": "stream",
     "text": [
      "Zonas Censales:  1647\n"
     ]
    }
   ],
   "source": [
    "List_ZC = []\n",
    "\n",
    "for lab, row in df_zc.iterrows():\n",
    "    n = [row['customer1'],row['customer2'],row['customer3'],row['customer4'],row['customer5']]\n",
    "    demanda = [row['demanda1'],row['demanda2'],row['demanda3'],row['demanda4'],row['demanda5']]\n",
    "\n",
    "    new_segment = Zona_Censal(row['GEOCODIGO'],\n",
    "                              row['lon'],\n",
    "                              row['lat'],\n",
    "                              n,\n",
    "                              demanda,\n",
    "                              row['Vel_promedio'],\n",
    "                              row['area_km2'],\n",
    "                              2)\n",
    "    List_ZC.append(new_segment)\n",
    "print(\"Zonas Censales: \",len(List_ZC))"
   ]
  },
  {
   "cell_type": "markdown",
   "id": "XMcoxKbZBdR0",
   "metadata": {
    "id": "XMcoxKbZBdR0"
   },
   "source": [
    "## MicroHub"
   ]
  },
  {
   "cell_type": "code",
   "execution_count": 125,
   "id": "4f4dc5fb",
   "metadata": {
    "executionInfo": {
     "elapsed": 3,
     "status": "ok",
     "timestamp": 1658786331584,
     "user": {
      "displayName": "Pitehr Hurtado",
      "userId": "17470625172762137230"
     },
     "user_tz": 240
    },
    "id": "4f4dc5fb",
    "scrolled": true
   },
   "outputs": [
    {
     "name": "stdout",
     "output_type": "stream",
     "text": [
      "<class 'pandas.core.frame.DataFrame'>\n",
      "RangeIndex: 46 entries, 0 to 45\n",
      "Data columns (total 60 columns):\n",
      " #   Column                     Non-Null Count  Dtype  \n",
      "---  ------                     --------------  -----  \n",
      " 0   Unnamed: 0                 46 non-null     int64  \n",
      " 1   osm_id                     46 non-null     int64  \n",
      " 2   name                       5 non-null      object \n",
      " 3   access                     46 non-null     object \n",
      " 4   addr.city                  4 non-null      object \n",
      " 5   addr.housenumber           2 non-null      float64\n",
      " 6   addr.street                5 non-null      object \n",
      " 7   amenity                    46 non-null     object \n",
      " 8   barrier                    1 non-null      object \n",
      " 9   building                   0 non-null      float64\n",
      " 10  building.levels            0 non-null      float64\n",
      " 11  capacity                   21 non-null     float64\n",
      " 12  capacity.disabled          5 non-null      float64\n",
      " 13  fee                        31 non-null     object \n",
      " 14  maxstay                    1 non-null      object \n",
      " 15  name.es                    1 non-null      object \n",
      " 16  operator                   9 non-null      object \n",
      " 17  operator.type              4 non-null      object \n",
      " 18  parking                    38 non-null     object \n",
      " 19  payment.cash               0 non-null      float64\n",
      " 20  payment.credit_cards       0 non-null      float64\n",
      " 21  payment.debit_cards        0 non-null      float64\n",
      " 22  payment.mastercard         0 non-null      float64\n",
      " 23  payment.visa               0 non-null      float64\n",
      " 24  service                    1 non-null      object \n",
      " 25  source                     2 non-null      object \n",
      " 26  supervised                 15 non-null     object \n",
      " 27  surface                    21 non-null     object \n",
      " 28  wheelchair                 0 non-null      float64\n",
      " 29  area_m2                    46 non-null     float64\n",
      " 30  latitude                   46 non-null     float64\n",
      " 31  longitude                  46 non-null     float64\n",
      " 32  h3_address                 46 non-null     object \n",
      " 33  distance.text              46 non-null     object \n",
      " 34  distance.value             46 non-null     int64  \n",
      " 35  duration.text              46 non-null     object \n",
      " 36  duration.value             46 non-null     int64  \n",
      " 37  duration_in_traffic.text   46 non-null     object \n",
      " 38  duration_in_traffic.value  46 non-null     int64  \n",
      " 39  status                     46 non-null     object \n",
      " 40  co1_small                  46 non-null     int64  \n",
      " 41  co2_small                  46 non-null     int64  \n",
      " 42  co3_small                  46 non-null     int64  \n",
      " 43  co4_small                  46 non-null     int64  \n",
      " 44  co5_small                  46 non-null     int64  \n",
      " 45  co1_medium                 46 non-null     int64  \n",
      " 46  co2_medium                 46 non-null     int64  \n",
      " 47  co3_medium                 46 non-null     int64  \n",
      " 48  co4_medium                 46 non-null     int64  \n",
      " 49  co5_medium                 46 non-null     int64  \n",
      " 50  co1_large                  46 non-null     int64  \n",
      " 51  co2_large                  46 non-null     int64  \n",
      " 52  co3_large                  46 non-null     int64  \n",
      " 53  co4_large                  46 non-null     int64  \n",
      " 54  co5_large                  46 non-null     int64  \n",
      " 55  cf1                        46 non-null     int64  \n",
      " 56  cf2                        46 non-null     int64  \n",
      " 57  cf3                        46 non-null     int64  \n",
      " 58  cf4                        46 non-null     int64  \n",
      " 59  cf5                        46 non-null     int64  \n",
      "dtypes: float64(14), int64(25), object(21)\n",
      "memory usage: 21.7+ KB\n"
     ]
    },
    {
     "data": {
      "text/plain": [
       "None"
      ]
     },
     "metadata": {},
     "output_type": "display_data"
    }
   ],
   "source": [
    "# cargar MH\n",
    "#path_mh = '/content/gdrive/MyDrive/Multi-Period 2E-LRP/Instancias_Parametros/Base MH.csv'\n",
    "path_mh = r\"C:\\Users\\user\\Desktop\\Investigacion JC - PH\\Data In\\Base MH.csv\"\n",
    "df_mh = pd.read_csv(path_mh)\n",
    "display(df_mh.info())"
   ]
  },
  {
   "cell_type": "markdown",
   "id": "LBGs7uMxhAhg",
   "metadata": {
    "id": "LBGs7uMxhAhg"
   },
   "source": [
    "### Capacidad"
   ]
  },
  {
   "cell_type": "code",
   "execution_count": 126,
   "id": "pIKAcbvPhEBc",
   "metadata": {
    "executionInfo": {
     "elapsed": 810,
     "status": "ok",
     "timestamp": 1658786332391,
     "user": {
      "displayName": "Pitehr Hurtado",
      "userId": "17470625172762137230"
     },
     "user_tz": 240
    },
    "id": "pIKAcbvPhEBc"
   },
   "outputs": [
    {
     "data": {
      "text/html": [
       "<div>\n",
       "<style scoped>\n",
       "    .dataframe tbody tr th:only-of-type {\n",
       "        vertical-align: middle;\n",
       "    }\n",
       "\n",
       "    .dataframe tbody tr th {\n",
       "        vertical-align: top;\n",
       "    }\n",
       "\n",
       "    .dataframe thead th {\n",
       "        text-align: right;\n",
       "    }\n",
       "</style>\n",
       "<table border=\"1\" class=\"dataframe\">\n",
       "  <thead>\n",
       "    <tr style=\"text-align: right;\">\n",
       "      <th></th>\n",
       "      <th>osm_id</th>\n",
       "      <th>144015370</th>\n",
       "      <th>183347000</th>\n",
       "      <th>255805128</th>\n",
       "      <th>255805130</th>\n",
       "      <th>255805131</th>\n",
       "      <th>255805132</th>\n",
       "      <th>272112665</th>\n",
       "      <th>273273842</th>\n",
       "      <th>278048435</th>\n",
       "      <th>...</th>\n",
       "      <th>891116578</th>\n",
       "      <th>907134697</th>\n",
       "      <th>909674530</th>\n",
       "      <th>922756663</th>\n",
       "      <th>941519793</th>\n",
       "      <th>953603864</th>\n",
       "      <th>964467872</th>\n",
       "      <th>972434583</th>\n",
       "      <th>983415168</th>\n",
       "      <th>1033557392</th>\n",
       "    </tr>\n",
       "  </thead>\n",
       "  <tbody>\n",
       "    <tr>\n",
       "      <th>0</th>\n",
       "      <td>small</td>\n",
       "      <td>103260</td>\n",
       "      <td>37540</td>\n",
       "      <td>36080</td>\n",
       "      <td>106010</td>\n",
       "      <td>117960</td>\n",
       "      <td>18850</td>\n",
       "      <td>81520</td>\n",
       "      <td>7770</td>\n",
       "      <td>47450</td>\n",
       "      <td>...</td>\n",
       "      <td>133710</td>\n",
       "      <td>93140</td>\n",
       "      <td>138830</td>\n",
       "      <td>47230</td>\n",
       "      <td>40230</td>\n",
       "      <td>160360</td>\n",
       "      <td>96630</td>\n",
       "      <td>88170</td>\n",
       "      <td>65010</td>\n",
       "      <td>85710</td>\n",
       "    </tr>\n",
       "    <tr>\n",
       "      <th>1</th>\n",
       "      <td>medium</td>\n",
       "      <td>1396900</td>\n",
       "      <td>628500</td>\n",
       "      <td>669500</td>\n",
       "      <td>1795900</td>\n",
       "      <td>1207500</td>\n",
       "      <td>370900</td>\n",
       "      <td>1704900</td>\n",
       "      <td>2813000</td>\n",
       "      <td>6695000</td>\n",
       "      <td>...</td>\n",
       "      <td>221100</td>\n",
       "      <td>1433300</td>\n",
       "      <td>1148000</td>\n",
       "      <td>1643700</td>\n",
       "      <td>1301400</td>\n",
       "      <td>846800</td>\n",
       "      <td>1908900</td>\n",
       "      <td>1547100</td>\n",
       "      <td>892000</td>\n",
       "      <td>1130700</td>\n",
       "    </tr>\n",
       "    <tr>\n",
       "      <th>2</th>\n",
       "      <td>large</td>\n",
       "      <td>14932000</td>\n",
       "      <td>17094000</td>\n",
       "      <td>17163000</td>\n",
       "      <td>19155000</td>\n",
       "      <td>12607000</td>\n",
       "      <td>14503000</td>\n",
       "      <td>17701000</td>\n",
       "      <td>16796000</td>\n",
       "      <td>12961000</td>\n",
       "      <td>...</td>\n",
       "      <td>11249000</td>\n",
       "      <td>9743000</td>\n",
       "      <td>824000</td>\n",
       "      <td>2633000</td>\n",
       "      <td>12680000</td>\n",
       "      <td>19304000</td>\n",
       "      <td>1605000</td>\n",
       "      <td>19516000</td>\n",
       "      <td>12795000</td>\n",
       "      <td>16908000</td>\n",
       "    </tr>\n",
       "  </tbody>\n",
       "</table>\n",
       "<p>3 rows × 47 columns</p>\n",
       "</div>"
      ],
      "text/plain": [
       "   osm_id  144015370  183347000  255805128  255805130  255805131  255805132  \\\n",
       "0   small     103260      37540      36080     106010     117960      18850   \n",
       "1  medium    1396900     628500     669500    1795900    1207500     370900   \n",
       "2   large   14932000   17094000   17163000   19155000   12607000   14503000   \n",
       "\n",
       "   272112665  273273842  278048435  ...  891116578  907134697  909674530  \\\n",
       "0      81520       7770      47450  ...     133710      93140     138830   \n",
       "1    1704900    2813000    6695000  ...     221100    1433300    1148000   \n",
       "2   17701000   16796000   12961000  ...   11249000    9743000     824000   \n",
       "\n",
       "   922756663  941519793  953603864  964467872  972434583  983415168  \\\n",
       "0      47230      40230     160360      96630      88170      65010   \n",
       "1    1643700    1301400     846800    1908900    1547100     892000   \n",
       "2    2633000   12680000   19304000    1605000   19516000   12795000   \n",
       "\n",
       "   1033557392  \n",
       "0       85710  \n",
       "1     1130700  \n",
       "2    16908000  \n",
       "\n",
       "[3 rows x 47 columns]"
      ]
     },
     "metadata": {},
     "output_type": "display_data"
    }
   ],
   "source": [
    "# ********* google colab *************\n",
    "#gc = gspread.authorize(creds)\n",
    "#worksheet = gc.open('Base MicroHub').sheet1\n",
    "# get_all_values gives a list of rows.\n",
    "#rows = worksheet.get_all_values()\n",
    "\n",
    "# Convert to a DataFrame and render.\n",
    "#df_mh_q = pd.DataFrame.from_records(rows)\n",
    "#df_mh_q.columns = df_mh_q.iloc[0,:]\n",
    "#df_mh_q.drop(0,inplace=True)\n",
    "\n",
    "\n",
    "# ********* LOCAL **************\n",
    "path_mh_q = r\"C:\\Users\\user\\Desktop\\Investigacion JC - PH\\Data In\\Base MicroHub.xlsx\"\n",
    "df_mh_q = pd.read_excel(path_mh_q)\n",
    "display(df_mh_q)"
   ]
  },
  {
   "cell_type": "markdown",
   "id": "SWhG62ZJksI3",
   "metadata": {
    "id": "SWhG62ZJksI3"
   },
   "source": [
    "### Generar Lista de *MH*"
   ]
  },
  {
   "cell_type": "code",
   "execution_count": 127,
   "id": "ZYeoPPNxkpi2",
   "metadata": {
    "executionInfo": {
     "elapsed": 5,
     "status": "ok",
     "timestamp": 1658786332392,
     "user": {
      "displayName": "Pitehr Hurtado",
      "userId": "17470625172762137230"
     },
     "user_tz": 240
    },
    "id": "ZYeoPPNxkpi2"
   },
   "outputs": [
    {
     "name": "stdout",
     "output_type": "stream",
     "text": [
      "Micro Hub:  46\n"
     ]
    }
   ],
   "source": [
    "List_MH = []\n",
    "\n",
    "for lab, row in df_mh.iterrows():\n",
    "    # costo fijo\n",
    "    cf = [row['cf1'],row['cf2'],row['cf3'],row['cf4'],row['cf5']]\n",
    "    # costo operar - fila periodo y columna capacidad\n",
    "    co = [[row['co1_small'],row['co1_medium'],row['co1_large']],\n",
    "          [row['co2_small'],row['co2_medium'],row['co2_large']],\n",
    "          [row['co3_small'],row['co3_medium'],row['co3_large']],\n",
    "          [row['co4_small'],row['co4_medium'],row['co4_large']],\n",
    "          [row['co5_small'],row['co5_medium'],row['co5_large']]]\n",
    "    \n",
    "    # capacidad\n",
    "    q_id = [0,1,2]\n",
    "    \n",
    "    # ********** google colab ************\n",
    "    #q = {0: df_mh_q[str(row['osm_id'])][0],\n",
    "    #     1: df_mh_q[str(row['osm_id'])][1],\n",
    "    #     2: df_mh_q[str(row['osm_id'])][2]}\n",
    "    # ********** LOCAL ***************\n",
    "    q = {0: df_mh_q[row['osm_id']][0],\n",
    "         1: df_mh_q[row['osm_id']][1],\n",
    "         2: df_mh_q[row['osm_id']][2]}\n",
    "    \n",
    "    # creacion de microhub\n",
    "    new_micro_hub = Micro_Hub(row['osm_id'],\n",
    "                              row['longitude'],\n",
    "                              row['latitude'],\n",
    "                              cf,\n",
    "                              co,\n",
    "                              q,\n",
    "                              q_id,\n",
    "                              5)\n",
    "    List_MH.append(new_micro_hub)\n",
    "    #print(lab,q)\n",
    "print(\"Micro Hub: \",len(List_MH))"
   ]
  },
  {
   "cell_type": "markdown",
   "id": "Tz4G7iu4sFoY",
   "metadata": {
    "id": "Tz4G7iu4sFoY"
   },
   "source": [
    "## Vehiculo 2E"
   ]
  },
  {
   "cell_type": "code",
   "execution_count": 128,
   "id": "ccUrbc8_sGXq",
   "metadata": {
    "executionInfo": {
     "elapsed": 882,
     "status": "ok",
     "timestamp": 1658786333269,
     "user": {
      "displayName": "Pitehr Hurtado",
      "userId": "17470625172762137230"
     },
     "user_tz": 240
    },
    "id": "ccUrbc8_sGXq"
   },
   "outputs": [
    {
     "data": {
      "text/html": [
       "<div>\n",
       "<style scoped>\n",
       "    .dataframe tbody tr th:only-of-type {\n",
       "        vertical-align: middle;\n",
       "    }\n",
       "\n",
       "    .dataframe tbody tr th {\n",
       "        vertical-align: top;\n",
       "    }\n",
       "\n",
       "    .dataframe thead th {\n",
       "        text-align: right;\n",
       "    }\n",
       "</style>\n",
       "<table border=\"1\" class=\"dataframe\">\n",
       "  <thead>\n",
       "    <tr style=\"text-align: right;\">\n",
       "      <th></th>\n",
       "      <th>id</th>\n",
       "      <th>capacidad</th>\n",
       "      <th>cd</th>\n",
       "      <th>ch</th>\n",
       "      <th>tp</th>\n",
       "      <th>cs</th>\n",
       "      <th>tl</th>\n",
       "      <th>k</th>\n",
       "      <th>sl</th>\n",
       "      <th>ts</th>\n",
       "      <th>s</th>\n",
       "      <th>TM</th>\n",
       "      <th>td</th>\n",
       "      <th>F</th>\n",
       "    </tr>\n",
       "  </thead>\n",
       "  <tbody>\n",
       "    <tr>\n",
       "      <th>0</th>\n",
       "      <td>bicicleta</td>\n",
       "      <td>15</td>\n",
       "      <td>10</td>\n",
       "      <td>0.1</td>\n",
       "      <td>0.25</td>\n",
       "      <td>2</td>\n",
       "      <td>0.1</td>\n",
       "      <td>1</td>\n",
       "      <td>15</td>\n",
       "      <td>0.1</td>\n",
       "      <td>0.1</td>\n",
       "      <td>8</td>\n",
       "      <td>0.05</td>\n",
       "      <td>2000</td>\n",
       "    </tr>\n",
       "    <tr>\n",
       "      <th>1</th>\n",
       "      <td>van_electrica</td>\n",
       "      <td>50</td>\n",
       "      <td>100</td>\n",
       "      <td>0.1</td>\n",
       "      <td>0.50</td>\n",
       "      <td>5</td>\n",
       "      <td>0.5</td>\n",
       "      <td>1</td>\n",
       "      <td>30</td>\n",
       "      <td>0.5</td>\n",
       "      <td>30.0</td>\n",
       "      <td>8</td>\n",
       "      <td>0.05</td>\n",
       "      <td>80000</td>\n",
       "    </tr>\n",
       "  </tbody>\n",
       "</table>\n",
       "</div>"
      ],
      "text/plain": [
       "              id  capacidad   cd   ch    tp  cs   tl  k  sl   ts     s  TM  \\\n",
       "0      bicicleta         15   10  0.1  0.25   2  0.1  1  15  0.1   0.1   8   \n",
       "1  van_electrica         50  100  0.1  0.50   5  0.5  1  30  0.5  30.0   8   \n",
       "\n",
       "     td      F  \n",
       "0  0.05   2000  \n",
       "1  0.05  80000  "
      ]
     },
     "metadata": {},
     "output_type": "display_data"
    }
   ],
   "source": [
    "# ******* google colab ************\n",
    "#gc = gspread.authorize(creds)\n",
    "#worksheet = gc.open('Base Vehiculos').sheet1\n",
    "# get_all_values gives a list of rows.\n",
    "#rows = worksheet.get_all_values()\n",
    "# Convert to a DataFrame and render.\n",
    "#df_v = pd.DataFrame.from_records(rows)\n",
    "#df_v.columns = df_v.iloc[0,:]\n",
    "#df_v.drop(0,inplace=True)\n",
    "\n",
    "# ********** LOCAL ***************\n",
    "path_v = r\"C:\\Users\\user\\Desktop\\Investigacion JC - PH\\Data in\\Base Vehiculos.xlsx\"\n",
    "df_v = pd.read_excel(path_v)\n",
    "display(df_v)"
   ]
  },
  {
   "cell_type": "markdown",
   "id": "dulzMZ2ysmlX",
   "metadata": {
    "id": "dulzMZ2ysmlX"
   },
   "source": [
    "### Generar Lista Vehiculos 2E\n"
   ]
  },
  {
   "cell_type": "code",
   "execution_count": 129,
   "id": "LuQMlhv7smym",
   "metadata": {
    "executionInfo": {
     "elapsed": 4,
     "status": "ok",
     "timestamp": 1658786333270,
     "user": {
      "displayName": "Pitehr Hurtado",
      "userId": "17470625172762137230"
     },
     "user_tz": 240
    },
    "id": "LuQMlhv7smym"
   },
   "outputs": [
    {
     "name": "stdout",
     "output_type": "stream",
     "text": [
      "Tipos de Vehiculos:  2\n"
     ]
    }
   ],
   "source": [
    "List_VH = []\n",
    "\n",
    "for lab,row in df_v.iterrows():\n",
    "  # creacion de vehiculo\n",
    "  new_vehicle = Vehiculo(row['capacidad'],\n",
    "                          row['cd'],\n",
    "                          row['ch'],\n",
    "                          row['tp'],\n",
    "                          row['cs'],\n",
    "                          row['tl'],\n",
    "                          row['sl'],\n",
    "                          row['ts'],\n",
    "                          row['s'],\n",
    "                          row['TM'],\n",
    "                          row['td'],\n",
    "                          row['F'],\n",
    "                          row['id'])\n",
    "\n",
    "  List_VH.append(new_vehicle)\n",
    "print(\"Tipos de Vehiculos: \",len(List_VH))"
   ]
  },
  {
   "cell_type": "markdown",
   "id": "8HNiTO2cFlQ6",
   "metadata": {
    "id": "8HNiTO2cFlQ6"
   },
   "source": [
    "## Matriz Distancia"
   ]
  },
  {
   "cell_type": "code",
   "execution_count": 130,
   "id": "JJrebUSFxrCL",
   "metadata": {
    "executionInfo": {
     "elapsed": 3,
     "status": "ok",
     "timestamp": 1658786333270,
     "user": {
      "displayName": "Pitehr Hurtado",
      "userId": "17470625172762137230"
     },
     "user_tz": 240
    },
    "id": "JJrebUSFxrCL"
   },
   "outputs": [
    {
     "name": "stdout",
     "output_type": "stream",
     "text": [
      "<class 'pandas.core.frame.DataFrame'>\n",
      "RangeIndex: 75762 entries, 0 to 75761\n",
      "Data columns (total 9 columns):\n",
      " #   Column                     Non-Null Count  Dtype \n",
      "---  ------                     --------------  ----- \n",
      " 0   GEOCODIGO                  75762 non-null  int64 \n",
      " 1   OSM_ID                     75762 non-null  int64 \n",
      " 2   distance.text              75762 non-null  object\n",
      " 3   distance.value             75762 non-null  int64 \n",
      " 4   duration.text              75762 non-null  object\n",
      " 5   duration.value             75762 non-null  int64 \n",
      " 6   duration_in_traffic.text   75762 non-null  object\n",
      " 7   duration_in_traffic.value  75762 non-null  int64 \n",
      " 8   status                     75762 non-null  object\n",
      "dtypes: int64(5), object(4)\n",
      "memory usage: 5.2+ MB\n"
     ]
    },
    {
     "data": {
      "text/plain": [
       "None"
      ]
     },
     "metadata": {},
     "output_type": "display_data"
    }
   ],
   "source": [
    "# cargar matriz distancia\n",
    "#path_matriz_distancia = '/content/gdrive/MyDrive/Multi-Period 2E-LRP/Instancias_Parametros/Datos hacia ZC sin autopista(pesimista).csv'\n",
    "\n",
    "path_matriz_distancia = r\"C:\\Users\\user\\Desktop\\Investigacion JC - PH\\Data in\\Base Matriz Distancia (Pesimista).csv\"\n",
    "df_distancia = pd.read_csv(path_matriz_distancia)\n",
    "display(df_distancia.info())"
   ]
  },
  {
   "cell_type": "code",
   "execution_count": 131,
   "id": "_EDL73wH6Ubx",
   "metadata": {
    "executionInfo": {
     "elapsed": 8606,
     "status": "ok",
     "timestamp": 1658786341873,
     "user": {
      "displayName": "Pitehr Hurtado",
      "userId": "17470625172762137230"
     },
     "user_tz": 240
    },
    "id": "_EDL73wH6Ubx"
   },
   "outputs": [],
   "source": [
    "## diccionario de distancia entre MH-ZC - LINEHAUL DISTANCE FROM MH TO CENTROID OF ZC\n",
    "\n",
    "distance_mh_zc = dict([((df_distancia.OSM_ID[i],df_distancia.GEOCODIGO[i]),df_distancia.loc[i,\"distance.value\"]/1000 ) for i in range(len(df_distancia))])\n",
    "\n",
    "## diccionario de tiempo entre MH-ZC - \n",
    "\n",
    "time_mh_zc = dict([((df_distancia.OSM_ID[i],df_distancia.GEOCODIGO[i]),df_distancia.loc[i,\"duration.value\"]/3600 ) for i in range(len(df_distancia))])\n",
    "\n",
    "## diccionario de tiempo con TRAFICO entre MH-ZC\n",
    "\n",
    "timeTraffic_mh_zc = dict([((df_distancia.OSM_ID[i],df_distancia.GEOCODIGO[i]),df_distancia.loc[i,\"duration_in_traffic.value\"]/3600 ) for i in range(len(df_distancia))])\n"
   ]
  },
  {
   "cell_type": "markdown",
   "id": "4e1318d4",
   "metadata": {
    "id": "4e1318d4"
   },
   "source": [
    "# Funciones"
   ]
  },
  {
   "cell_type": "markdown",
   "id": "730858b5",
   "metadata": {
    "id": "730858b5"
   },
   "source": [
    "## Función ARCE-Multiperiodo:"
   ]
  },
  {
   "cell_type": "code",
   "execution_count": 132,
   "id": "21426fa5",
   "metadata": {
    "executionInfo": {
     "elapsed": 369,
     "status": "ok",
     "timestamp": 1658786342232,
     "user": {
      "displayName": "Pitehr Hurtado",
      "userId": "17470625172762137230"
     },
     "user_tz": 240
    },
    "id": "21426fa5"
   },
   "outputs": [],
   "source": [
    "def arce(zona_censal, micro_hub, vehiculo, distancia, tiempo, t):\n",
    "    \"\"\"\n",
    "    Calcula la estimación del costo de la ruta aumentada para un segmento dado, considerando un vehiculo y un MH para un periodo t especifico\n",
    "            \n",
    "    ---------\n",
    "    result     : dict\n",
    "        dictionnary conttaining total cost and all intermediate results like: \n",
    "    \"\"\"  \n",
    "    h       = 0   # paradas por ruta considerando solo CAPACIDAD-vehicular\n",
    "    T_F     = 0   # duracion fija de cada ruta\n",
    "    T_c     = 0   # duracion variable por cliente de cada ruta\n",
    "    n       = 0   # numero real de paradas\n",
    "    m       = 0   # numeor de rutas por vehiculo por dia\n",
    "    w       = 0   # tamaño de flota\n",
    "    f_F     = 0   # costo fijo de vehiculo\n",
    "    f_D     = 0   # costo de la ruta considerando la distancia\n",
    "    f_T     = 0   # costo de la ruta considerando el tiempo\n",
    "    f       = 0   # costo total de la ruta\n",
    "    \n",
    "    result  = []   # TOTAL COSTO\n",
    "\n",
    "\n",
    "    if (zona_censal.n[t] != 0 or zona_censal.D[t]!=0):\n",
    "      if zona_censal.D[t] < zona_censal.n[t]:\n",
    "        new_num_stop = zona_censal.D[t]\n",
    "      else:\n",
    "        new_num_stop = zona_censal.n[t]\n",
    "                    \n",
    "      # Stops per route accounting for capacity only \n",
    "      h = (vehiculo.Q_V /(zona_censal.D[t]/new_num_stop))\n",
    "              \n",
    "      # Fixed duration of each route\n",
    "      T_F = (vehiculo.ts + 2*(distancia[(micro_hub.ID, zona_censal.ID)])/vehiculo.sl)\n",
    "\n",
    "      # Variable duration per customer of each route\n",
    "      T_c = (zona_censal.c * zona_censal.k / (math.sqrt(zona_censal.g[t]) * vehiculo.s) + vehiculo.td)\n",
    "\n",
    "      # Effective number of stops per route\n",
    "      if h * T_c  + T_F  <= vehiculo.Tm:\n",
    "        n = (h)\n",
    "      else:\n",
    "        n = ((vehiculo.Tm - T_F)/T_c)\n",
    "\n",
    "      # Number of routes per vehicle per day\n",
    "      if h * T_c + T_F <= vehiculo.Tm:\n",
    "        m = (vehiculo.Tm / (h*T_c + T_F))\n",
    "      else:\n",
    "        m = (1)\n",
    "\n",
    "      # Fleet size\n",
    "      w = ((zona_censal.g[t] * zona_censal.A)/ (n * m))\n",
    "\n",
    "      # Fixed cost of vehicles\n",
    "      f_F = (vehiculo.F * w)\n",
    "\n",
    "      # Distance-based cost of routes\n",
    "      f_D = (vehiculo.cd * w * m * (2* (distancia[(micro_hub.ID, zona_censal.ID)]) + n * zona_censal.k / math.sqrt(zona_censal.g[t])))\n",
    "\n",
    "      # Time-based cost of routes\n",
    "      f_T = (vehiculo.ch * w * m * (vehiculo.ts + 2*(distancia[(micro_hub.ID, zona_censal.ID)]) / vehiculo.sl + n * (vehiculo.td + zona_censal.c * zona_censal.k / (math.sqrt(zona_censal.g[t]) * vehiculo.s))))\n",
    "\n",
    "      # Total cost of routes\n",
    "      f = (f_F + f_D + f_T)\n",
    "\n",
    "      result = {}\n",
    "      result[\"h\"]   = h\n",
    "      result[\"T_F\"] = T_F\n",
    "      result[\"T_c\"] = T_c\n",
    "      result[\"n\"]   = n\n",
    "      result[\"m\"]   = m\n",
    "      result[\"w\"]   = w\n",
    "      result[\"f_F\"] = f_F\n",
    "      result[\"f_D\"] = f_D\n",
    "      result[\"f_T\"] = f_T\n",
    "      result[\"f\"]   = f\n",
    "\n",
    "    else:\n",
    "      result[\"h\"]   = 0\n",
    "      result[\"T_F\"] = 0\n",
    "      result[\"T_c\"] = 0\n",
    "      result[\"n\"]   = 0\n",
    "      result[\"m\"]   = 0\n",
    "      result[\"w\"]   = 0\n",
    "      result[\"f_F\"] = 0\n",
    "      result[\"f_D\"] = 0\n",
    "      result[\"f_T\"] = 0\n",
    "      result[\"f\"]   = 0\n",
    "    #print(zona_censal.ID, micro_hub.ID, vehiculo.ID,t)\n",
    "    return result        "
   ]
  },
  {
   "cell_type": "markdown",
   "id": "1e341eb7",
   "metadata": {
    "id": "1e341eb7"
   },
   "source": [
    "# Parámetros"
   ]
  },
  {
   "cell_type": "code",
   "execution_count": 133,
   "id": "f0c329cd",
   "metadata": {
    "executionInfo": {
     "elapsed": 2,
     "status": "ok",
     "timestamp": 1658786342232,
     "user": {
      "displayName": "Pitehr Hurtado",
      "userId": "17470625172762137230"
     },
     "user_tz": 240
    },
    "id": "f0c329cd"
   },
   "outputs": [],
   "source": [
    "# cantidad de periodos\n",
    "T = 5"
   ]
  },
  {
   "cell_type": "code",
   "execution_count": 134,
   "id": "ZCBKhhsr8m38",
   "metadata": {
    "executionInfo": {
     "elapsed": 2,
     "status": "ok",
     "timestamp": 1658786342232,
     "user": {
      "displayName": "Pitehr Hurtado",
      "userId": "17470625172762137230"
     },
     "user_tz": 240
    },
    "id": "ZCBKhhsr8m38"
   },
   "outputs": [],
   "source": [
    "ARCE = dict([ ( (s.ID,m.ID,v.ID,t), arce(s,m,v,distance_mh_zc,time_mh_zc,t) ) for t in range(T) for v in List_VH for m in List_MH for s in List_ZC ])"
   ]
  },
  {
   "cell_type": "code",
   "execution_count": 135,
   "id": "087beca3",
   "metadata": {},
   "outputs": [],
   "source": [
    "#display(ARCE)"
   ]
  },
  {
   "cell_type": "markdown",
   "id": "9d01f886",
   "metadata": {
    "id": "9d01f886"
   },
   "source": [
    "# Modelo Determinístico"
   ]
  },
  {
   "cell_type": "markdown",
   "id": "3f1115fb",
   "metadata": {
    "id": "3f1115fb"
   },
   "source": [
    "## Full Model"
   ]
  },
  {
   "cell_type": "code",
   "execution_count": 136,
   "id": "5d977e73",
   "metadata": {
    "executionInfo": {
     "elapsed": 229,
     "status": "ok",
     "timestamp": 1658786420023,
     "user": {
      "displayName": "Pitehr Hurtado",
      "userId": "17470625172762137230"
     },
     "user_tz": 240
    },
    "id": "5d977e73"
   },
   "outputs": [
    {
     "name": "stdout",
     "output_type": "stream",
     "text": [
      "Gurobi Optimizer version 9.5.2 build v9.5.2rc0 (win64)\n",
      "Thread count: 4 physical cores, 8 logical processors, using up to 8 threads\n",
      "Optimize a model with 8741 rows, 758540 columns and 1517540 nonzeros\n",
      "Model fingerprint: 0xbdc0116a\n",
      "Variable types: 757620 continuous, 920 integer (920 binary)\n",
      "Coefficient statistics:\n",
      "  Matrix range     [1e+00, 2e+07]\n",
      "  Objective range  [1e+03, 1e+07]\n",
      "  Bounds range     [1e+00, 1e+00]\n",
      "  RHS range        [1e+00, 6e+02]\n",
      "Found heuristic solution: objective 2.870765e+11\n",
      "Presolve removed 17 rows and 379233 columns\n",
      "Presolve time: 2.36s\n",
      "Presolved: 8724 rows, 379307 columns, 758869 nonzeros\n",
      "Variable types: 378810 continuous, 497 integer (497 binary)\n",
      "\n",
      "Root relaxation: objective 1.104172e+11, 8548 iterations, 0.18 seconds (0.05 work units)\n",
      "\n",
      "    Nodes    |    Current Node    |     Objective Bounds      |     Work\n",
      " Expl Unexpl |  Obj  Depth IntInf | Incumbent    BestBd   Gap | It/Node Time\n",
      "\n",
      "     0     0 1.1042e+11    0  271 2.8708e+11 1.1042e+11  61.5%     -    4s\n",
      "H    0     0                    1.278380e+11 1.1042e+11  13.6%     -    4s\n",
      "H    0     0                    1.104180e+11 1.1042e+11  0.00%     -    4s\n",
      "\n",
      "Explored 1 nodes (8548 simplex iterations) in 4.74 seconds (3.82 work units)\n",
      "Thread count was 8 (of 8 available processors)\n",
      "\n",
      "Solution count 3: 1.10418e+11 1.27838e+11 2.87077e+11 \n",
      "\n",
      "Optimal solution found (tolerance 1.00e-04)\n",
      "Best objective 1.104180485131e+11, best bound 1.104172315013e+11, gap 0.0007%\n",
      "FO: 110418048513.1445\n",
      "Costo MH: 266659.0\n",
      "Costo Vehiculo: 110417207193.1445\n"
     ]
    }
   ],
   "source": [
    "\n",
    "modelo = gp.Model(\"Full Modelo\")\n",
    "    \n",
    "    # VARIABLES\n",
    "    \n",
    "    # Y[m,t] == 1 si se abre el micro-hub \"m\" en el periodo \"t\"\n",
    "Y = dict([((m.ID,t),modelo.addVar(vtype=GRB.BINARY, name=\"Y_%s_%s\" %(m.ID,t))) for t in range(T) for m in List_MH ])\n",
    "    \n",
    "    # W[m,a,t] == 1 si el micro-hub abierto en \"m\" opera con capacidad \"a\" en el periodo \"t\"\n",
    "W = dict([ ((m.ID,a,t),modelo.addVar(vtype=GRB.BINARY, name=\"W_%s_%s_%s\" %(m.ID,a,t))) for t in range(T) for m in List_MH for a in m.Q_ID ])\n",
    " \n",
    "    # Z[m,s,v,t] == 1 si el micro-hub \"m\" sirve a zona censal \"s\" con vehiculo \"v\" en el periodo \"t\"\n",
    "Z = dict([((m.ID,s.ID,v.ID,t),modelo.addVar(vtype=GRB.CONTINUOUS, lb=0.0, name=\"Z_%s_%s_%s_%s\" %(m.ID,s.ID,v.ID,t))) for t in range(T) for m in List_MH for s in List_ZC for v in List_VH])\n",
    "\n",
    "    \n",
    "    # FUNCION OBJETIVO\n",
    "COSTO_FIJO = quicksum( [m.C_F[t]*Y[(m.ID,t)] for t in range(T) for m in List_MH ])\n",
    "COSTO_OPERACION = quicksum( [m.C_O[t][a]*W[(m.ID,a,t)] for t in range(T) for m in List_MH for a in m.Q_ID])\n",
    "COSTO_TRANSPORTE = quicksum([ARCE[(s.ID,m.ID,v.ID,t)][\"f\"]*Z[(m.ID,s.ID,v.ID,t)] for t in range(T) for v in List_VH for m in List_MH for s in List_ZC])\n",
    "    \n",
    "Costo_Total = COSTO_FIJO + COSTO_OPERACION + COSTO_TRANSPORTE\n",
    "        \n",
    "modelo.setObjective(Costo_Total,GRB.MINIMIZE)\n",
    "    \n",
    "    # RESTRICCIONES\n",
    "    # (2) capacidad de MH\n",
    "for t in range(T):\n",
    "    for m in List_MH:\n",
    "        r = \"R2_t\"+str(t)+\"_m\"+str(m.ID)\n",
    "        modelo.addConstr(quicksum([Z[(m.ID,s.ID,v.ID,t)] for s in List_ZC for v in List_VH]) <= quicksum([m.Q[a]*W[(m.ID,a,t)] for a in m.Q_ID ]), name=r)\n",
    " \n",
    "    # (3) satisfacer demanda\n",
    "for t in range(T):\n",
    "    for s in List_ZC:\n",
    "        r = \"R3_t\"+str(t)+\"_s\"+str(s.ID)\n",
    "        modelo.addConstr(quicksum([Z[(m.ID,s.ID,v.ID,t)] for m in List_MH for v in List_VH]) >= s.D[t] , name=r)\n",
    "    \n",
    "    # (4) apertura de micro-hub\n",
    "for m in List_MH:\n",
    "    r = \"R4_m\"+str(m.ID)\n",
    "    modelo.addConstr( quicksum( [Y[(m.ID,t)] for t in range(T) ]) <= 1, name=r )                       \n",
    "    \n",
    "    # (5) opera si se ha aperturado antes          \n",
    "for t in range(T):\n",
    "    for m in List_MH:\n",
    "        r = \"R5_t\"+str(t)+\"_m\"+str(m.ID)\n",
    "        modelo.addConstr( quicksum( [W[(m.ID,a,t)] for a in m.Q_ID] ) <= quicksum( [Y[(m.ID,k)] for k in range(t+1)] ) , name=r)\n",
    "                       \n",
    "    \n",
    "    # EJECUCION MODELO\n",
    "    \n",
    "modelo.optimize()\n",
    "    \n",
    "       # mostrar resultados\n",
    "print(\"FO: \" + str(Costo_Total.getValue()))\n",
    "print(\"Costo MH: \" + str(COSTO_OPERACION.getValue()))\n",
    "print(\"Costo Vehiculo: \" + str(COSTO_TRANSPORTE.getValue()))\n",
    "    \n",
    "#print(\"Soluciones:\")\n",
    "#for t in range(T):\n",
    "#    for m in List_MH:\n",
    "#        if Y[m.ID,t].x !=0:\n",
    "#            print(\"periodo instalado: \" +str(t) + \" MH:\" +str(m.ID) )\n",
    "#        for a in m.Q_ID:\n",
    "#            if W[m.ID,a,t].x !=0:\n",
    "#                print(\"periodo operando: \" +str(t) + \" MH:\" +str(m.ID) + \" q:\" + str(a))"
   ]
  },
  {
   "cell_type": "code",
   "execution_count": 142,
   "id": "871b55e8",
   "metadata": {},
   "outputs": [],
   "source": [
    "rows_W = []\n",
    "for t in range(T):\n",
    "    for m in List_MH:\n",
    "        #for s in List_ZC:\n",
    "            #for v in List_VH:\n",
    "        #for a in m.Q_ID:\n",
    "            #rows_W.append([m.ID,a,t,W[m.ID,a,t].x])\n",
    "            #rows_Z.append([m.ID,s.ID,v.ID,t,Z[m.ID,s.ID,v.ID,t].x])\n",
    "        rows_Y.append([m.ID,t,Y[m.ID,t].x])"
   ]
  },
  {
   "cell_type": "code",
   "execution_count": 143,
   "id": "6dfd8900",
   "metadata": {},
   "outputs": [],
   "source": [
    "df_Z = pd.DataFrame(rows_Y,columns=['mh','t','valorY'])\n",
    "df_Z.to_excel(r\"C:\\Users\\user\\Desktop\\Investigacion JC - PH\\Data out\\resultado_Y.xlsx\",index=False)"
   ]
  },
  {
   "cell_type": "markdown",
   "id": "Z4unruW7SZB2",
   "metadata": {
    "id": "Z4unruW7SZB2"
   },
   "source": [
    "# Descomposición Benders"
   ]
  },
  {
   "cell_type": "markdown",
   "id": "EAqvIzpySdCP",
   "metadata": {
    "id": "EAqvIzpySdCP"
   },
   "source": [
    "## Problema Maestro"
   ]
  },
  {
   "cell_type": "code",
   "execution_count": null,
   "id": "f426fa25",
   "metadata": {
    "id": "f426fa25"
   },
   "outputs": [],
   "source": []
  },
  {
   "cell_type": "markdown",
   "id": "49HZjxwvSdp3",
   "metadata": {
    "id": "49HZjxwvSdp3"
   },
   "source": [
    "## Sub Problema"
   ]
  },
  {
   "cell_type": "code",
   "execution_count": null,
   "id": "dnjFvS42SeIx",
   "metadata": {
    "id": "dnjFvS42SeIx"
   },
   "outputs": [],
   "source": []
  },
  {
   "cell_type": "markdown",
   "id": "O8K0KnEhSfyH",
   "metadata": {
    "id": "O8K0KnEhSfyH"
   },
   "source": [
    "## Algoritmo Resolución"
   ]
  },
  {
   "cell_type": "code",
   "execution_count": null,
   "id": "vVWFeAkRSgKl",
   "metadata": {
    "id": "vVWFeAkRSgKl"
   },
   "outputs": [],
   "source": []
  }
 ],
 "metadata": {
  "colab": {
   "name": "Modelo 2 - Designing large-scale 2E urban delivery networks over a Multi-period Planning Horizon.ipynb",
   "provenance": [],
   "toc_visible": true
  },
  "kernelspec": {
   "display_name": "Python 3 (ipykernel)",
   "language": "python",
   "name": "python3"
  },
  "language_info": {
   "codemirror_mode": {
    "name": "ipython",
    "version": 3
   },
   "file_extension": ".py",
   "mimetype": "text/x-python",
   "name": "python",
   "nbconvert_exporter": "python",
   "pygments_lexer": "ipython3",
   "version": "3.10.4"
  }
 },
 "nbformat": 4,
 "nbformat_minor": 5
}
